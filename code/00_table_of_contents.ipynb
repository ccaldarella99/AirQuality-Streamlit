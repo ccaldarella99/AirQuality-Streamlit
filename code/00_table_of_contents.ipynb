{
 "cells": [
  {
   "cell_type": "markdown",
   "id": "generous-passion",
   "metadata": {},
   "source": [
    "# Table of Contents"
   ]
  },
  {
   "cell_type": "markdown",
   "id": "structural-deposit",
   "metadata": {
    "tags": []
   },
   "source": [
    "[Functions](functions.ipynb)<br />\n",
    " - Import of custom Regression Class and its libraries.\n",
    " - Please note that you may need to install ipynb\n",
    "<!-- ##### *Note: the command to install `ipynb` is inside the Function notebook and each of the other notebooks. The line to install is commented out and just needs to be uncommented and ran.* -->"
   ]
  },
  {
   "cell_type": "markdown",
   "id": "endless-novelty",
   "metadata": {
    "tags": []
   },
   "source": [
    "[01 - Cleaning](01_cleaning.ipynb)<br />\n",
    "\n",
    "Cleaning process for our data. Please note that some features were added in after the EDA process.\n",
    "\n",
    " - Import for Cleaning <br/>\n",
    " - Inspecting before Cleaning <br/>\n",
    " - Getting similar Data <br/>\n",
    " - More Data <br/>\n",
    " - Cleaning Functions <br/>\n",
    " - Merge Clean Data <br/>\n",
    " - More Data to Import <br/>\n",
    " - More Data to Merge <br/>\n",
    " - Putting the years together <br/>\n",
    " - Add Percent Change Column <br/>\n",
    " - Rename Columns <br/>\n",
    " - Export Clean Data <br/>\n"
   ]
  },
  {
   "cell_type": "markdown",
   "id": "dated-cylinder",
   "metadata": {
    "tags": []
   },
   "source": [
    "[02 - EDA](02_eda.ipynb)<br />\n",
    " - Data Dictionary <br />\n",
    " - Features <br />\n",
    " - Feature Engineering <br />\n",
    "\n",
    "...etc."
   ]
  },
  {
   "cell_type": "markdown",
   "id": "trying-concentrate",
   "metadata": {},
   "source": [
    "[03 - EDA Visualizations](03_eda_visualizations.ipynb)<br />\n",
    " - Observations and Overview <br />\n",
    "\n",
    "...etc."
   ]
  },
  {
   "cell_type": "markdown",
   "id": "continent-elizabeth",
   "metadata": {},
   "source": [
    "[04 - Modelling with Regression](04_modelling_with_regression.ipynb)<br />\n",
    " - Logistic Regression Models <br />\n",
    " - Random Forest Models <br />\n",
    " - Decision Tree Models <br />\n",
    " - Gradient Boosting Models <br />\n",
    " - Bagging Classifier Models <br />\n",
    " - Ada Boosting Models with <br />\n",
    " - Compare Models with <br />\n",
    "\n",
    "...etc."
   ]
  },
  {
   "cell_type": "markdown",
   "id": "2c2b5c69-8404-4d44-9850-f77d9856fdcc",
   "metadata": {},
   "source": [
    "[05 - Modelling with Time-Series](05_modelling_with_time_series.ipynb)<br />\n",
    " - Import for Time Series Models\n",
    " - Set X and y and TTS <br />\n",
    " - Plot Data and Null Model <br />\n",
    " - Model by Months <br />\n",
    "   - Seasonal Model by Months <br />\n",
    "   - SARIMA by Months <br />\n",
    "   - Holt-Winters, Auto by Months <br />\n",
    "   - Holt-Winters, Manual by Months <br />\n",
    "   - Ensemble Forecasts by Months <br />\n",
    " - Model by Weeks <br />\n",
    "   - Seasonal Model by Weeks <br />\n",
    "   - SARIMA by Weeks <br />\n",
    "   - Holt-Winters, Auto by Weeks <br />\n",
    "   - Holt-Winters, Manual by Weeks <br />\n",
    "   - Ensemble Forecasts, by Weeks <br />\n",
    " - Save Time Series Model <br />\n"
   ]
  },
  {
   "cell_type": "markdown",
   "id": "developmental-butler",
   "metadata": {},
   "source": [
    "[06 - Production Model](05_production_model.ipynb)<br />\n",
    " - Best Models <br />\n",
    " - Using Models in the real world <br />\n",
    "\n",
    "...etc."
   ]
  },
  {
   "cell_type": "markdown",
   "id": "local-elder",
   "metadata": {},
   "source": [
    "[07 - Streamlit App](07_streamlit_app.ipynb) <br />\n",
    " - Overview <br />\n",
    " - [The app.py File](../Streamlit/app.py) <br />\n",
    "\n",
    "...etc."
   ]
  },
  {
   "cell_type": "markdown",
   "id": "alpha-nothing",
   "metadata": {},
   "source": [
    "[08 - Conclusion](08_conclusion.ipynb)<br />\n",
    " - Null Model <br/>\n",
    " - Conclusion <br/>\n",
    " - Analysis <br/>\n",
    " - Recommendations <br/>\n",
    " - Limitations <br/>\n",
    " - Areas for Further Research and Study <br/>\n",
    "\n",
    "...etc."
   ]
  },
  {
   "cell_type": "code",
   "execution_count": null,
   "id": "discrete-garage",
   "metadata": {},
   "outputs": [],
   "source": []
  }
 ],
 "metadata": {
  "kernelspec": {
   "display_name": "Python 3",
   "language": "python",
   "name": "python3"
  },
  "language_info": {
   "codemirror_mode": {
    "name": "ipython",
    "version": 3
   },
   "file_extension": ".py",
   "mimetype": "text/x-python",
   "name": "python",
   "nbconvert_exporter": "python",
   "pygments_lexer": "ipython3",
   "version": "3.8.10"
  }
 },
 "nbformat": 4,
 "nbformat_minor": 5
}
